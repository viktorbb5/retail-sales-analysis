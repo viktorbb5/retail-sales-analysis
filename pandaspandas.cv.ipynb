{
 "cells": [
  {
   "cell_type": "code",
   "execution_count": 1,
   "metadata": {},
   "outputs": [],
   "source": [
    "import pandas as pd\n",
    "\n",
    "\n",
    "df = pd.read_excel(r\"C:\\Users\\beles\\OneDrive\\Desktop\\cv portfolio\\SQL - Retail Sales Analysis_utf .xlsb\", engine='pyxlsb')\n"
   ]
  },
  {
   "cell_type": "code",
   "execution_count": null,
   "metadata": {},
   "outputs": [
    {
     "name": "stdout",
     "output_type": "stream",
     "text": [
      "   transactions_id  sale_date  sale_time  customer_id  gender   age  category  \\\n",
      "0              180      44870   0.449306          117    Male  41.0  Clothing   \n",
      "1              522      44751   0.458333           52    Male  46.0    Beauty   \n",
      "2              559      44907   0.450000            5  Female  40.0  Clothing   \n",
      "3             1180      44567   0.370139           85    Male  41.0  Clothing   \n",
      "4             1522      44879   0.357639           48    Male  46.0    Beauty   \n",
      "\n",
      "   quantiy  price_per_unit   cogs  total_sale  \n",
      "0      3.0           300.0  129.0       900.0  \n",
      "1      3.0           500.0  145.0      1500.0  \n",
      "2      4.0           300.0   84.0      1200.0  \n",
      "3      3.0           300.0  129.0       900.0  \n",
      "4      3.0           500.0  235.0      1500.0  \n"
     ]
    }
   ],
   "source": [
    "print(df.head()) #cheaking if the data is imported \n"
   ]
  },
  {
   "cell_type": "code",
   "execution_count": 2,
   "metadata": {},
   "outputs": [],
   "source": [
    "df_cleaned = df.dropna() #deleting rows with missing values"
   ]
  },
  {
   "cell_type": "code",
   "execution_count": null,
   "metadata": {},
   "outputs": [],
   "source": [
    "df_cleaned = df_cleaned.rename(columns={  #renaming rows with typos\n",
    "    'quantiy': 'quantity'                  \n",
    "})                                          "
   ]
  },
  {
   "cell_type": "code",
   "execution_count": null,
   "metadata": {},
   "outputs": [
    {
     "name": "stdout",
     "output_type": "stream",
     "text": [
      "Index(['transactions_id', 'sale_date', 'sale_time', 'customer_id', 'gender',\n",
      "       'age', 'category', 'quantity', 'price_per_unit', 'cogs', 'total_sale'],\n",
      "      dtype='object')\n"
     ]
    }
   ],
   "source": [
    "df_cleaned.columns = (\n",
    "    df_cleaned.columns\n",
    "    .str.strip() # striping whitespace\n",
    "    .str.lower() # changing everything to lowercase\n",
    "    .str.replace(' ', '_') # replacing the space between words with _\n",
    ")\n",
    "\n",
    "\n",
    "print(df_cleaned.columns)"
   ]
  },
  {
   "cell_type": "code",
   "execution_count": 21,
   "metadata": {},
   "outputs": [
    {
     "data": {
      "text/plain": [
       "category\n",
       "Electronics    311445.0\n",
       "Clothing       309995.0\n",
       "Beauty         286790.0\n",
       "Name: total_sale, dtype: float64"
      ]
     },
     "execution_count": 21,
     "metadata": {},
     "output_type": "execute_result"
    }
   ],
   "source": [
    "df_cleaned.groupby('category')['total_sale'].sum().sort_values(ascending=False)\n",
    "# sale performance by total sale from higgest to lowest\n",
    "\n"
   ]
  },
  {
   "cell_type": "code",
   "execution_count": null,
   "metadata": {},
   "outputs": [
    {
     "name": "stdout",
     "output_type": "stream",
     "text": [
      "Average Order Value (AOV): 457.0860593860091\n"
     ]
    }
   ],
   "source": [
    "\n",
    "average_order_value = df_cleaned['total_sale'].mean()\n",
    "print(\"Average Order Value (AOV):\", average_order_value)\n",
    "# AVG number of sales"
   ]
  },
  {
   "cell_type": "code",
   "execution_count": 27,
   "metadata": {},
   "outputs": [
    {
     "name": "stdout",
     "output_type": "stream",
     "text": [
      "Top 5 Best-Selling Categories:\n",
      " category\n",
      "Clothing       1780.0\n",
      "Electronics    1682.0\n",
      "Beauty         1533.0\n",
      "Name: quantity, dtype: float64\n"
     ]
    }
   ],
   "source": [
    "top_5_categories = (\n",
    "    df_cleaned.groupby('category')['quantity']\n",
    "    .sum()\n",
    "    .sort_values(ascending=False)\n",
    "    .head(5)\n",
    ")\n",
    "print(\"Top 5 Best-Selling Categories:\\n\", top_5_categories)\n",
    "# top 5 best selling categories"
   ]
  },
  {
   "cell_type": "code",
   "execution_count": null,
   "metadata": {},
   "outputs": [
    {
     "name": "stdout",
     "output_type": "stream",
     "text": [
      "sale_date\n",
      "1970-01-01 00:00:00.000044562    2150.0\n",
      "1970-01-01 00:00:00.000044563    2075.0\n",
      "1970-01-01 00:00:00.000044564     200.0\n",
      "1970-01-01 00:00:00.000044565    1450.0\n",
      "1970-01-01 00:00:00.000044566     290.0\n",
      "Name: total_sale, dtype: float64\n"
     ]
    }
   ],
   "source": [
    "df_cleaned['sale_date'] = pd.to_datetime(df_cleaned['sale_date'])\n",
    "# converting the sale date so pandas can read it normally\n",
    "\n",
    "daily_sales = df_cleaned.groupby('sale_date')['total_sale'].sum()\n",
    "print(daily_sales.head())\n",
    "# sales over time "
   ]
  },
  {
   "cell_type": "code",
   "execution_count": null,
   "metadata": {},
   "outputs": [
    {
     "name": "stdout",
     "output_type": "stream",
     "text": [
      "weekday\n",
      "Thursday    908230.0\n",
      "Name: total_sale, dtype: float64\n"
     ]
    }
   ],
   "source": [
    "df_cleaned['weekday'] = df_cleaned['sale_date'].dt.day_name()\n",
    "weekday_sales = df_cleaned.groupby('weekday')['total_sale'].sum().sort_values(ascending=False)\n",
    "print(weekday_sales)\n",
    "# calcuating the total number of sales per day"
   ]
  }
 ],
 "metadata": {
  "kernelspec": {
   "display_name": "Python 3",
   "language": "python",
   "name": "python3"
  },
  "language_info": {
   "codemirror_mode": {
    "name": "ipython",
    "version": 3
   },
   "file_extension": ".py",
   "mimetype": "text/x-python",
   "name": "python",
   "nbconvert_exporter": "python",
   "pygments_lexer": "ipython3",
   "version": "3.12.10"
  }
 },
 "nbformat": 4,
 "nbformat_minor": 2
}
